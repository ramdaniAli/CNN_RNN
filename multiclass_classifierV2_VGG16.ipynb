{
 "cells": [
  {
   "attachments": {},
   "cell_type": "markdown",
   "metadata": {},
   "source": [
    "#### Etape 1 : Importer les librairies nécessaires pour notre modèle CNN"
   ]
  },
  {
   "cell_type": "code",
   "execution_count": 15,
   "metadata": {},
   "outputs": [],
   "source": [
    "import tensorflow as tf\n",
    "\n",
    "from tensorflow.keras.preprocessing.image import ImageDataGenerator\n",
    "from tensorflow.keras.layers import Dense, Conv2D, MaxPooling2D, Flatten, Dropout \n",
    "from tensorflow.keras.models import Sequential, Model\n",
    "from tensorflow.keras.optimizers import Adam\n",
    "from tensorflow.keras.callbacks import ModelCheckpoint , EarlyStopping , TensorBoard\n",
    "from tensorflow.keras.applications import VGG16\n",
    "\n",
    "import numpy as np\n",
    "import matplotlib.pyplot as plt\n",
    "\n",
    "import pathlib\n",
    "from pathlib import Path\n",
    "import os\n",
    "\n",
    "import imghdr\n",
    "from PIL import Image\n",
    "import cv2 \n",
    "\n",
    "import itertools\n",
    "import datetime"
   ]
  },
  {
   "attachments": {},
   "cell_type": "markdown",
   "metadata": {},
   "source": [
    "#### Etape 2 : Préparer l'envirronement de travail (activer l'accélération GPU)"
   ]
  },
  {
   "cell_type": "code",
   "execution_count": 16,
   "metadata": {},
   "outputs": [
    {
     "name": "stdout",
     "output_type": "stream",
     "text": [
      "GPU is AVAILABLE 🚀\n",
      "[PhysicalDevice(name='/physical_device:GPU:0', device_type='GPU')]\n"
     ]
    }
   ],
   "source": [
    "def prepare_gpu_acceleration():\n",
    "    gpus = tf.config.experimental.list_physical_devices('GPU')\n",
    "    if gpus:\n",
    "        print(\"GPU is AVAILABLE 🚀\")\n",
    "        print(tf.config.experimental.list_physical_devices('GPU'))\n",
    "        try:\n",
    "            for gpu in gpus:\n",
    "                tf.config.experimental.set_memory_growth(gpu, True)\n",
    "        except RuntimeError as e:\n",
    "            print(\"An error occured while setting memory growth for GPU 💀\")\n",
    "            print(e)\n",
    "    else:\n",
    "        print(\"GPU is NOT AVAILABLE 🐌\")\n",
    "        print(tf.config.experimental.list_physical_devices())\n",
    "\n",
    "prepare_gpu_acceleration()"
   ]
  },
  {
   "attachments": {},
   "cell_type": "markdown",
   "metadata": {},
   "source": [
    "#### Etape 3 : Préparer les données d'entrainement et de test"
   ]
  },
  {
   "cell_type": "code",
   "execution_count": 17,
   "metadata": {},
   "outputs": [],
   "source": [
    "# Initialiser les paramètres du modèle\n",
    "RESCALING_FACTOR = 1./255\n",
    "ROTAION_RANGE = 20, \n",
    "WIDTH_SHIFT_RANGE = 0.2\n",
    "HEIGHT_SHIFT_RANGE = 0.2\n",
    "SHEAR_RANGE = 0.2\n",
    "ZOOM_RANGE = 0.2\n",
    "HORIZONTAL_FLIP = True\n",
    "VALIDATION_SPLIT = 0.2\n",
    "\n",
    "IMAGE_WIDTH = 224\n",
    "IMAGE_HEIGHT = 224\n",
    "IMAGE_CHANNELS = 3\n",
    "BACH_SIZE = 32\n",
    "\n",
    "AUTOTUNE_SHUFFLE_BUFFER_SIZE = 1000\n",
    "\n",
    "CLASS_MODE = \"categorical\"\n",
    "LOSS_FUNCTION = \"categorical_crossentropy\"\n",
    "LEARING_RATE = 0.001\n",
    "METRICS = [\"accuracy\"]\n",
    "EPOCHS = 15"
   ]
  },
  {
   "cell_type": "code",
   "execution_count": 18,
   "metadata": {},
   "outputs": [],
   "source": [
    "# Définir les chemins vers les données\n",
    "data_dir = 'data'\n",
    "\n",
    "# creer les générateurs d'images\n",
    "datagen = ImageDataGenerator(\n",
    "    rescale=1./255,\n",
    "    rotation_range=20,\n",
    "    width_shift_range=0.2,\n",
    "    height_shift_range=0.2,\n",
    "    shear_range=0.2,\n",
    "    zoom_range=0.2,\n",
    "    horizontal_flip=True,\n",
    "    validation_split=0.2 # 80% training and 20% validation\n",
    ")\n"
   ]
  },
  {
   "cell_type": "code",
   "execution_count": 19,
   "metadata": {},
   "outputs": [
    {
     "name": "stdout",
     "output_type": "stream",
     "text": [
      "Found 15990 images belonging to 2 classes.\n",
      "Found 3996 images belonging to 2 classes.\n"
     ]
    }
   ],
   "source": [
    "# Preparer les données d'entrainement et de validation\n",
    "train_generator = datagen.flow_from_directory(\n",
    "    data_dir,\n",
    "    target_size=(224, 224),\n",
    "    batch_size=32,\n",
    "    class_mode='categorical',\n",
    "    subset='training'\n",
    ")\n",
    "\n",
    "# Preparer les données de validation\n",
    "validation_generator = datagen.flow_from_directory(\n",
    "    data_dir,\n",
    "    target_size=(224, 224),\n",
    "    batch_size=32,\n",
    "    class_mode='categorical',\n",
    "    subset='validation'\n",
    ")"
   ]
  },
  {
   "attachments": {},
   "cell_type": "markdown",
   "metadata": {},
   "source": [
    "#### Etape 4 : Charger le modèle pré-entrainé"
   ]
  },
  {
   "cell_type": "code",
   "execution_count": 20,
   "metadata": {},
   "outputs": [],
   "source": [
    "# https://keras.io/api/applications/vgg/#vgg16-function\n",
    "# VGG16 est un modèle pré-entrainé sur le jeu de données ImageNet, qui contient 1000 classes, dont les images sont de taille 224x224 pixels\n",
    "\n",
    "# charger le modèle VGG16 pré-entrainé\n",
    "vgg = VGG16(include_top=False, weights='imagenet', input_shape=(224, 224, 3))"
   ]
  },
  {
   "cell_type": "code",
   "execution_count": 21,
   "metadata": {},
   "outputs": [],
   "source": [
    "# Congeler les couches du modèle VGG16\n",
    "vgg.trainable = False"
   ]
  },
  {
   "cell_type": "code",
   "execution_count": 22,
   "metadata": {},
   "outputs": [
    {
     "name": "stdout",
     "output_type": "stream",
     "text": [
      "Model: \"vgg16\"\n",
      "_________________________________________________________________\n",
      " Layer (type)                Output Shape              Param #   \n",
      "=================================================================\n",
      " input_2 (InputLayer)        [(None, 224, 224, 3)]     0         \n",
      "                                                                 \n",
      " block1_conv1 (Conv2D)       (None, 224, 224, 64)      1792      \n",
      "                                                                 \n",
      " block1_conv2 (Conv2D)       (None, 224, 224, 64)      36928     \n",
      "                                                                 \n",
      " block1_pool (MaxPooling2D)  (None, 112, 112, 64)      0         \n",
      "                                                                 \n",
      " block2_conv1 (Conv2D)       (None, 112, 112, 128)     73856     \n",
      "                                                                 \n",
      " block2_conv2 (Conv2D)       (None, 112, 112, 128)     147584    \n",
      "                                                                 \n",
      " block2_pool (MaxPooling2D)  (None, 56, 56, 128)       0         \n",
      "                                                                 \n",
      " block3_conv1 (Conv2D)       (None, 56, 56, 256)       295168    \n",
      "                                                                 \n",
      " block3_conv2 (Conv2D)       (None, 56, 56, 256)       590080    \n",
      "                                                                 \n",
      " block3_conv3 (Conv2D)       (None, 56, 56, 256)       590080    \n",
      "                                                                 \n",
      " block3_pool (MaxPooling2D)  (None, 28, 28, 256)       0         \n",
      "                                                                 \n",
      " block4_conv1 (Conv2D)       (None, 28, 28, 512)       1180160   \n",
      "                                                                 \n",
      " block4_conv2 (Conv2D)       (None, 28, 28, 512)       2359808   \n",
      "                                                                 \n",
      " block4_conv3 (Conv2D)       (None, 28, 28, 512)       2359808   \n",
      "                                                                 \n",
      " block4_pool (MaxPooling2D)  (None, 14, 14, 512)       0         \n",
      "                                                                 \n",
      " block5_conv1 (Conv2D)       (None, 14, 14, 512)       2359808   \n",
      "                                                                 \n",
      " block5_conv2 (Conv2D)       (None, 14, 14, 512)       2359808   \n",
      "                                                                 \n",
      " block5_conv3 (Conv2D)       (None, 14, 14, 512)       2359808   \n",
      "                                                                 \n",
      " block5_pool (MaxPooling2D)  (None, 7, 7, 512)         0         \n",
      "                                                                 \n",
      "=================================================================\n",
      "Total params: 14,714,688\n",
      "Trainable params: 0\n",
      "Non-trainable params: 14,714,688\n",
      "_________________________________________________________________\n"
     ]
    }
   ],
   "source": [
    "# Résumé de l'architecture du modèle VGG16\n",
    "vgg.summary()"
   ]
  },
  {
   "attachments": {},
   "cell_type": "markdown",
   "metadata": {},
   "source": [
    "#### Etape 5 : Créer le modèle CNN"
   ]
  },
  {
   "cell_type": "code",
   "execution_count": 23,
   "metadata": {},
   "outputs": [
    {
     "name": "stdout",
     "output_type": "stream",
     "text": [
      "Total de classes (2) - {'Painting': 0, 'Photo': 1}\n"
     ]
    }
   ],
   "source": [
    "# Identifier les classes \n",
    "class_names = train_generator.class_indices\n",
    "num_classes = len(class_names)\n",
    "print(f\"Total de classes ({num_classes}) - {class_names}\")"
   ]
  },
  {
   "cell_type": "code",
   "execution_count": 24,
   "metadata": {},
   "outputs": [],
   "source": [
    "# Creation du modéle de CNN\n",
    "model = Sequential()"
   ]
  },
  {
   "cell_type": "code",
   "execution_count": 25,
   "metadata": {},
   "outputs": [],
   "source": [
    "# Ajouter le modèle VGG16 pré-entrainé\n",
    "model.add(vgg)\n",
    "\n",
    "# Applatissement des couches\n",
    "model.add(Flatten())\n",
    "\n",
    "# Ajouter une couche dense de 128 neurones\n",
    "model.add(Dense(128, activation='relu'))\n",
    "\n",
    "# Ajouter une couche de dropout\n",
    "model.add(Dropout(0.2))\n",
    "\n",
    "# Ajouter une couche de sortie\n",
    "model.add(Dense(num_classes, activation='softmax'))"
   ]
  },
  {
   "cell_type": "code",
   "execution_count": 26,
   "metadata": {},
   "outputs": [
    {
     "name": "stdout",
     "output_type": "stream",
     "text": [
      "Model: \"sequential_1\"\n",
      "_________________________________________________________________\n",
      " Layer (type)                Output Shape              Param #   \n",
      "=================================================================\n",
      " vgg16 (Functional)          (None, 7, 7, 512)         14714688  \n",
      "                                                                 \n",
      " flatten_1 (Flatten)         (None, 25088)             0         \n",
      "                                                                 \n",
      " dense_2 (Dense)             (None, 128)               3211392   \n",
      "                                                                 \n",
      " dropout_1 (Dropout)         (None, 128)               0         \n",
      "                                                                 \n",
      " dense_3 (Dense)             (None, 2)                 258       \n",
      "                                                                 \n",
      "=================================================================\n",
      "Total params: 17,926,338\n",
      "Trainable params: 3,211,650\n",
      "Non-trainable params: 14,714,688\n",
      "_________________________________________________________________\n"
     ]
    }
   ],
   "source": [
    "# résumer le modéle\n",
    "model.summary()"
   ]
  },
  {
   "attachments": {},
   "cell_type": "markdown",
   "metadata": {},
   "source": [
    "#### Etape 6 : Compilation et entrainement du modèle"
   ]
  },
  {
   "cell_type": "code",
   "execution_count": 27,
   "metadata": {},
   "outputs": [],
   "source": [
    "# Compiler le modéle\n",
    "model.compile(\n",
    "    loss='categorical_crossentropy',\n",
    "    optimizer=Adam(learning_rate=0.001),\n",
    "    metrics=['accuracy']\n",
    ")"
   ]
  },
  {
   "cell_type": "code",
   "execution_count": 28,
   "metadata": {},
   "outputs": [],
   "source": [
    "model_filepath = f\"models/{datetime.datetime.now().strftime('%Y%m%d-%H%M%S')}/model.h5\"\n",
    "logs_dir = f\"logs/{datetime.datetime.now().strftime('%Y%m%d-%H%M%S')}\"\n",
    "# Définir les callbacks pour l'entrainement\n",
    "callbacks = [\n",
    "    # Définition de l'arret précoce pour éviter le sur-apprentissage\n",
    "    EarlyStopping(\n",
    "        monitor='val_loss', \n",
    "        patience=3\n",
    "    ),\n",
    "    # Validation croisée\n",
    "    ModelCheckpoint(\n",
    "        filepath=model_filepath,\n",
    "        monitor='val_loss', \n",
    "        save_best_only=True\n",
    "    ),\n",
    "    # TensorBoard pour visualiser les courbes d'apprentissage\n",
    "    TensorBoard(log_dir=logs_dir, histogram_freq=1)\n",
    "]\n"
   ]
  },
  {
   "cell_type": "code",
   "execution_count": 29,
   "metadata": {},
   "outputs": [
    {
     "name": "stdout",
     "output_type": "stream",
     "text": [
      "Epoch 1/30\n",
      "500/500 [==============================] - 411s 802ms/step - loss: 0.4122 - accuracy: 0.8242 - val_loss: 0.2814 - val_accuracy: 0.8824\n",
      "Epoch 2/30\n",
      "500/500 [==============================] - 387s 773ms/step - loss: 0.3145 - accuracy: 0.8672 - val_loss: 0.2610 - val_accuracy: 0.8959\n",
      "Epoch 3/30\n",
      "500/500 [==============================] - 400s 800ms/step - loss: 0.2870 - accuracy: 0.8822 - val_loss: 0.2769 - val_accuracy: 0.8831\n",
      "Epoch 4/30\n",
      "500/500 [==============================] - 374s 748ms/step - loss: 0.2761 - accuracy: 0.8893 - val_loss: 0.2365 - val_accuracy: 0.8999\n",
      "Epoch 5/30\n",
      "500/500 [==============================] - 370s 740ms/step - loss: 0.2633 - accuracy: 0.8919 - val_loss: 0.2331 - val_accuracy: 0.9064\n",
      "Epoch 6/30\n",
      "500/500 [==============================] - 362s 724ms/step - loss: 0.2573 - accuracy: 0.8961 - val_loss: 0.2296 - val_accuracy: 0.9077\n",
      "Epoch 7/30\n",
      "500/500 [==============================] - 1038s 2s/step - loss: 0.2478 - accuracy: 0.8989 - val_loss: 0.2221 - val_accuracy: 0.9137\n",
      "Epoch 8/30\n",
      "500/500 [==============================] - 1918s 4s/step - loss: 0.2390 - accuracy: 0.9029 - val_loss: 0.2156 - val_accuracy: 0.9134\n",
      "Epoch 9/30\n",
      "500/500 [==============================] - 633s 1s/step - loss: 0.2364 - accuracy: 0.9025 - val_loss: 0.2133 - val_accuracy: 0.9124\n",
      "Epoch 10/30\n",
      "500/500 [==============================] - 410s 818ms/step - loss: 0.2252 - accuracy: 0.9110 - val_loss: 0.2134 - val_accuracy: 0.9142\n",
      "Epoch 11/30\n",
      "500/500 [==============================] - 384s 767ms/step - loss: 0.2361 - accuracy: 0.9049 - val_loss: 0.2127 - val_accuracy: 0.9182\n",
      "Epoch 12/30\n",
      "500/500 [==============================] - 376s 752ms/step - loss: 0.2212 - accuracy: 0.9109 - val_loss: 0.2297 - val_accuracy: 0.9097\n",
      "Epoch 13/30\n",
      "500/500 [==============================] - 385s 769ms/step - loss: 0.2211 - accuracy: 0.9101 - val_loss: 0.2141 - val_accuracy: 0.9194\n",
      "Epoch 14/30\n",
      "500/500 [==============================] - 376s 752ms/step - loss: 0.2180 - accuracy: 0.9119 - val_loss: 0.2034 - val_accuracy: 0.9224\n",
      "Epoch 15/30\n",
      "500/500 [==============================] - 387s 774ms/step - loss: 0.2075 - accuracy: 0.9191 - val_loss: 0.2252 - val_accuracy: 0.9104\n",
      "Epoch 16/30\n",
      "500/500 [==============================] - 367s 734ms/step - loss: 0.2093 - accuracy: 0.9171 - val_loss: 0.2006 - val_accuracy: 0.9162\n",
      "Epoch 17/30\n",
      "500/500 [==============================] - 373s 745ms/step - loss: 0.2110 - accuracy: 0.9155 - val_loss: 0.1983 - val_accuracy: 0.9269\n",
      "Epoch 18/30\n",
      "500/500 [==============================] - 380s 760ms/step - loss: 0.2107 - accuracy: 0.9156 - val_loss: 0.2137 - val_accuracy: 0.9164\n",
      "Epoch 19/30\n",
      "500/500 [==============================] - 353s 706ms/step - loss: 0.2091 - accuracy: 0.9189 - val_loss: 0.2240 - val_accuracy: 0.9099\n",
      "Epoch 20/30\n",
      "500/500 [==============================] - 359s 718ms/step - loss: 0.2028 - accuracy: 0.9178 - val_loss: 0.2248 - val_accuracy: 0.9099\n"
     ]
    }
   ],
   "source": [
    "# Entrainement du modéle\n",
    "history = model.fit(\n",
    "    train_generator,\n",
    "    validation_data=validation_generator,\n",
    "    epochs=30,\n",
    "    verbose=1,\n",
    "    callbacks=callbacks\n",
    ")"
   ]
  },
  {
   "attachments": {},
   "cell_type": "markdown",
   "metadata": {},
   "source": [
    "#### Etape 7 : Evaluation du modèle"
   ]
  },
  {
   "cell_type": "code",
   "execution_count": 30,
   "metadata": {},
   "outputs": [],
   "source": [
    "# Récupérer les données de l'historique\n",
    "acc = history.history['accuracy']\n",
    "val_acc = history.history['val_accuracy']\n",
    "loss = history.history['loss']\n",
    "val_loss = history.history['val_loss']\n",
    "\n",
    "epochs_range = range(len(acc))"
   ]
  },
  {
   "cell_type": "code",
   "execution_count": 31,
   "metadata": {},
   "outputs": [
    {
     "data": {
      "image/png": "[encoded data removed]",
      "text/plain": [
       "<Figure size 640x480 with 1 Axes>"
      ]
     },
     "metadata": {},
     "output_type": "display_data"
    }
   ],
   "source": [
    "# Afficher les courbes de précision\n",
    "plt.plot(epochs_range, acc, label='Training Accuracy')\n",
    "plt.plot(epochs_range, val_acc, label='Validation Accuracy')\n",
    "plt.legend(loc='lower right')\n",
    "plt.title('Training and Validation Accuracy')\n",
    "plt.show()"
   ]
  },
  {
   "cell_type": "code",
   "execution_count": 32,
   "metadata": {},
   "outputs": [
    {
     "data": {
      "image/png": "[encoded data removed]",
      "text/plain": [
       "<Figure size 640x480 with 1 Axes>"
      ]
     },
     "metadata": {},
     "output_type": "display_data"
    }
   ],
   "source": [
    "# Afficher les courbes de perte\n",
    "plt.plot(epochs_range, loss, label='Training Loss')\n",
    "plt.plot(epochs_range, val_loss, label='Validation Loss')\n",
    "plt.legend(loc='upper right')\n",
    "plt.title('Training and Validation Loss')\n",
    "plt.show()"
   ]
  },
  {
   "cell_type": "code",
   "execution_count": 33,
   "metadata": {},
   "outputs": [
    {
     "name": "stdout",
     "output_type": "stream",
     "text": [
      "The model is overfitting 🤮\n",
      "Training accuracy : 91.78%\n",
      "Validation accuracy : 90.99%\n"
     ]
    }
   ],
   "source": [
    "def overfitting_underfitting(acc , val_acc , loss , val_loss):\n",
    "   if acc[-1] > val_acc[-1] and loss[-1] < val_loss[-1]:\n",
    "      print(\"The model is overfitting 🤮\")\n",
    "      print(f\"Training accuracy : {acc[-1]*100:.2f}%\")\n",
    "      print(f\"Validation accuracy : {val_acc[-1]*100:.2f}%\")\n",
    "   elif acc[-1] < val_acc[-1] and loss[-1] > val_loss[-1]: \n",
    "      print(\"The model is underfitting 🗿\")\n",
    "      print(f\"Training accuracy : {acc[-1]*100:.2f}%\")\n",
    "      print(f\"Validation accuracy : {val_acc[-1]*100:.2f}%\")\n",
    "   else:\n",
    "      print(\"The model is perfect fit 🧠\")\n",
    "      print(f\"Training accuracy : {acc[-1]*100:.2f}%\")\n",
    "      print(f\"Validation accuracy : {val_acc[-1]*100:.2f}%\")\n",
    "      \n",
    "overfitting_underfitting(acc , val_acc , loss , val_loss)"
   ]
  },
  {
   "cell_type": "code",
   "execution_count": null,
   "metadata": {},
   "outputs": [],
   "source": [
    "# Congeler les couches du modèle VGG16\n",
    "vgg.trainable = True"
   ]
  },
  {
   "cell_type": "code",
   "execution_count": null,
   "metadata": {},
   "outputs": [],
   "source": [
    "# Let's take a look to see how many layers are in the base model\n",
    "print(\"Nombre de couches dans le model MobileNet: \", len(vgg.layers))\n",
    "\n",
    "# Fine-tune from this layer onwards\n",
    "fine_tune_at = 100\n",
    "\n",
    "# Freeze all the layers before the `fine_tune_at` layer\n",
    "for layer in vgg.layers[:fine_tune_at]:\n",
    "  layer.trainable = False"
   ]
  },
  {
   "cell_type": "code",
   "execution_count": null,
   "metadata": {},
   "outputs": [],
   "source": [
    "model.compile(\n",
    "    loss=tf.keras.losses.CategoricalCrossentropy(from_logits=True),\n",
    "    optimizer=tf.keras.optimizers.RMSprop(learning_rate=0.0001/10),\n",
    "    metrics=['accuracy']\n",
    ")"
   ]
  },
  {
   "cell_type": "code",
   "execution_count": null,
   "metadata": {},
   "outputs": [],
   "source": [
    "model.summary()"
   ]
  },
  {
   "cell_type": "code",
   "execution_count": null,
   "metadata": {},
   "outputs": [],
   "source": [
    "hist_fine = model.fit(\n",
    "    train_generator,\n",
    "    validation_data=validation_generator,\n",
    "    epochs=30,\n",
    "    initial_epoch=history.epoch[-1],\n",
    "    verbose=1,\n",
    "    callbacks=callbacks\n",
    ")"
   ]
  },
  {
   "cell_type": "code",
   "execution_count": null,
   "metadata": {},
   "outputs": [],
   "source": [
    "acc += hist_fine.history['accuracy']\n",
    "val_acc += hist_fine.history['val_accuracy']\n",
    "\n",
    "loss += hist_fine.history['loss']\n",
    "val_loss += hist_fine.history['val_loss']"
   ]
  },
  {
   "cell_type": "code",
   "execution_count": null,
   "metadata": {},
   "outputs": [],
   "source": [
    "plt.figure(figsize=(8, 8))\n",
    "plt.subplot(2, 1, 1)\n",
    "plt.plot(acc, label='Training Accuracy')\n",
    "plt.plot(val_acc, label='Validation Accuracy')\n",
    "plt.ylim([0.8, 1])\n",
    "plt.plot([30-1,30-1],\n",
    "          plt.ylim(), label='Start Fine Tuning')\n",
    "plt.legend(loc='lower right')\n",
    "plt.title('Training and Validation Accuracy')\n",
    "\n",
    "plt.subplot(2, 1, 2)\n",
    "plt.plot(loss, label='Training Loss')\n",
    "plt.plot(val_loss, label='Validation Loss')\n",
    "plt.ylim([0, 1.0])\n",
    "plt.plot([30-1,30-1],\n",
    "         plt.ylim(), label='Start Fine Tuning')\n",
    "plt.legend(loc='upper right')\n",
    "plt.title('Training and Validation Loss')\n",
    "plt.xlabel('epoch')\n",
    "plt.show()"
   ]
  }
 ],
 "metadata": {
  "kernelspec": {
   "display_name": "base",
   "language": "python",
   "name": "python3"
  },
  "language_info": {
   "codemirror_mode": {
    "name": "ipython",
    "version": 3
   },
   "file_extension": ".py",
   "mimetype": "text/x-python",
   "name": "python",
   "nbconvert_exporter": "python",
   "pygments_lexer": "ipython3",
   "version": "3.8.8 (default, Apr 13 2021, 15:08:03) [MSC v.1916 64 bit (AMD64)]"
  },
  "orig_nbformat": 4,
  "vscode": {
   "interpreter": {
    "hash": "c6359237f1c2ab9a6610076d282fd59b5aeacc4c0a150d8cde7b213eeea6ce2a"
   }
  }
 },
 "nbformat": 4,
 "nbformat_minor": 2
}
